{
 "cells": [
  {
   "cell_type": "code",
   "execution_count": 30,
   "metadata": {},
   "outputs": [
    {
     "name": "stdout",
     "output_type": "stream",
     "text": [
      "Populating the interactive namespace from numpy and matplotlib\n"
     ]
    },
    {
     "name": "stderr",
     "output_type": "stream",
     "text": [
      "C:\\tools\\Anaconda3\\lib\\site-packages\\IPython\\core\\magics\\pylab.py:160: UserWarning: pylab import has clobbered these variables: ['imread', 'test', 'random']\n",
      "`%matplotlib` prevents importing * from pylab and numpy\n",
      "  \"\\n`%matplotlib` prevents importing * from pylab and numpy\"\n"
     ]
    }
   ],
   "source": [
    "% pylab inline\n",
    "import os\n",
    "import random\n",
    "\n",
    "import pandas as pd\n",
    "from scipy.misc import imread"
   ]
  },
  {
   "cell_type": "code",
   "execution_count": 31,
   "metadata": {},
   "outputs": [
    {
     "name": "stdout",
     "output_type": "stream",
     "text": [
      "4844\n",
      "Age:  OLD\n"
     ]
    },
    {
     "name": "stderr",
     "output_type": "stream",
     "text": [
      "C:\\tools\\Anaconda3\\lib\\site-packages\\ipykernel_launcher.py:10: DeprecationWarning: `imread` is deprecated!\n",
      "`imread` is deprecated in SciPy 1.0.0, and will be removed in 1.2.0.\n",
      "Use ``imageio.imread`` instead.\n",
      "  # Remove the CWD from sys.path while we load stuff.\n"
     ]
    },
    {
     "data": {
      "text/plain": [
       "<matplotlib.image.AxesImage at 0x2afbbae5e48>"
      ]
     },
     "execution_count": 31,
     "metadata": {},
     "output_type": "execute_result"
    },
    {
     "data": {
      "image/png": "[encoded data removed]",
      "text/plain": [
       "<matplotlib.figure.Figure at 0x2afbc02b3c8>"
      ]
     },
     "metadata": {},
     "output_type": "display_data"
    }
   ],
   "source": [
    "root_dir = os.path.abspath('.')\n",
    "data_dir = 'C:\\\\Users\\\\User\\\\Age-Detection-Problem\\\\Dataset'\n",
    "\n",
    "train = pd.read_csv(os.path.join(data_dir, 'Train\\\\train.csv'))\n",
    "test = pd.read_csv(os.path.join(data_dir, 'Test\\\\test.csv'))\n",
    "\n",
    "i = random.choice(train.index)\n",
    "print(i)\n",
    "img_name = train.ID[i]\n",
    "img = imread(os.path.join(data_dir, 'Train\\\\Train\\\\', img_name))\n",
    "\n",
    "print('Age: ', train.Class[i])\n",
    "\n",
    "imshow(img)"
   ]
  },
  {
   "cell_type": "code",
   "execution_count": 33,
   "metadata": {},
   "outputs": [
    {
     "name": "stderr",
     "output_type": "stream",
     "text": [
      "C:\\tools\\Anaconda3\\lib\\site-packages\\ipykernel_launcher.py:6: DeprecationWarning: `imread` is deprecated!\n",
      "`imread` is deprecated in SciPy 1.0.0, and will be removed in 1.2.0.\n",
      "Use ``imageio.imread`` instead.\n",
      "  \n",
      "C:\\tools\\Anaconda3\\lib\\site-packages\\ipykernel_launcher.py:7: DeprecationWarning: `imresize` is deprecated!\n",
      "`imresize` is deprecated in SciPy 1.0.0, and will be removed in 1.2.0.\n",
      "Use ``skimage.transform.resize`` instead.\n",
      "  import sys\n"
     ]
    }
   ],
   "source": [
    "from scipy.misc import imresize\n",
    "\n",
    "temp = []\n",
    "for img_name in train.ID:\n",
    "    img_path = os.path.join(data_dir, 'Train\\\\Train\\\\', img_name)\n",
    "    img = imread(img_path)\n",
    "    img = imresize(img, (32, 32))\n",
    "    img = img.astype('float32') # this will help us in later stage\n",
    "    temp.append(img)\n",
    "\n",
    "train_x = np.stack(temp)"
   ]
  },
  {
   "cell_type": "code",
   "execution_count": 36,
   "metadata": {},
   "outputs": [
    {
     "name": "stderr",
     "output_type": "stream",
     "text": [
      "C:\\tools\\Anaconda3\\lib\\site-packages\\ipykernel_launcher.py:4: DeprecationWarning: `imread` is deprecated!\n",
      "`imread` is deprecated in SciPy 1.0.0, and will be removed in 1.2.0.\n",
      "Use ``imageio.imread`` instead.\n",
      "  after removing the cwd from sys.path.\n",
      "C:\\tools\\Anaconda3\\lib\\site-packages\\ipykernel_launcher.py:5: DeprecationWarning: `imresize` is deprecated!\n",
      "`imresize` is deprecated in SciPy 1.0.0, and will be removed in 1.2.0.\n",
      "Use ``skimage.transform.resize`` instead.\n",
      "  \"\"\"\n"
     ]
    }
   ],
   "source": [
    "temp = []\n",
    "for img_name in test.ID:\n",
    "    img_path = os.path.join(data_dir, 'Test\\\\Test\\\\', img_name)\n",
    "    img = imread(img_path)\n",
    "    img = imresize(img, (32, 32))\n",
    "    temp.append(img.astype('float32'))\n",
    "\n",
    "test_x = np.stack(temp)"
   ]
  },
  {
   "cell_type": "code",
   "execution_count": 37,
   "metadata": {},
   "outputs": [],
   "source": [
    "train_x = train_x / 255.\n",
    "test_x = test_x / 255."
   ]
  },
  {
   "cell_type": "code",
   "execution_count": 38,
   "metadata": {},
   "outputs": [
    {
     "data": {
      "text/plain": [
       "MIDDLE    0.542751\n",
       "YOUNG     0.336883\n",
       "OLD       0.120366\n",
       "Name: Class, dtype: float64"
      ]
     },
     "execution_count": 38,
     "metadata": {},
     "output_type": "execute_result"
    }
   ],
   "source": [
    "train.Class.value_counts(normalize=True)"
   ]
  },
  {
   "cell_type": "code",
   "execution_count": 41,
   "metadata": {},
   "outputs": [],
   "source": [
    "test['Class'] = 'MIDDLE'\n",
    "test.to_csv(\"sub01.csv\", index=False)"
   ]
  },
  {
   "cell_type": "code",
   "execution_count": 42,
   "metadata": {},
   "outputs": [
    {
     "name": "stderr",
     "output_type": "stream",
     "text": [
      "C:\\tools\\Anaconda3\\lib\\site-packages\\h5py\\__init__.py:36: FutureWarning: Conversion of the second argument of issubdtype from `float` to `np.floating` is deprecated. In future, it will be treated as `np.float64 == np.dtype(float).type`.\n",
      "  from ._conv import register_converters as _register_converters\n",
      "Using TensorFlow backend.\n"
     ]
    }
   ],
   "source": [
    "import keras\n",
    "from sklearn.preprocessing import LabelEncoder\n",
    "\n",
    "lb = LabelEncoder()\n",
    "train_y = lb.fit_transform(train.Class)\n",
    "train_y = keras.utils.np_utils.to_categorical(train_y)"
   ]
  },
  {
   "cell_type": "code",
   "execution_count": 76,
   "metadata": {},
   "outputs": [],
   "source": [
    "input_num_units = (32, 32, 3)\n",
    "hidden_num_units = 500\n",
    "output_num_units = 3\n",
    "\n",
    "epochs = 20\n",
    "batch_size = 128"
   ]
  },
  {
   "cell_type": "code",
   "execution_count": 77,
   "metadata": {},
   "outputs": [],
   "source": [
    "from keras.models import Sequential\n",
    "from keras.layers import Dense, Flatten, InputLayer"
   ]
  },
  {
   "cell_type": "code",
   "execution_count": 78,
   "metadata": {},
   "outputs": [
    {
     "name": "stdout",
     "output_type": "stream",
     "text": [
      "_________________________________________________________________\n",
      "Layer (type)                 Output Shape              Param #   \n",
      "=================================================================\n",
      "flatten_5 (Flatten)          (None, 3072)              0         \n",
      "_________________________________________________________________\n",
      "dense_9 (Dense)              (None, 500)               1536500   \n",
      "_________________________________________________________________\n",
      "dense_10 (Dense)             (None, 3)                 1503      \n",
      "=================================================================\n",
      "Total params: 1,538,003\n",
      "Trainable params: 1,538,003\n",
      "Non-trainable params: 0\n",
      "_________________________________________________________________\n"
     ]
    }
   ],
   "source": [
    "model = Sequential([\n",
    "  InputLayer(input_shape=input_num_units),\n",
    "  Flatten(),\n",
    "  Dense(units=hidden_num_units, activation='relu'),\n",
    "  Dense(units=output_num_units, activation='softmax'),\n",
    "])\n",
    "model.summary()"
   ]
  },
  {
   "cell_type": "code",
   "execution_count": 79,
   "metadata": {
    "scrolled": true
   },
   "outputs": [
    {
     "name": "stdout",
     "output_type": "stream",
     "text": [
      "Epoch 1/20\n",
      "19906/19906 [==============================] - 7s 338us/step - loss: 0.8966 - acc: 0.5752\n",
      "Epoch 2/20\n",
      "19906/19906 [==============================] - 6s 300us/step - loss: 0.8520 - acc: 0.5994\n",
      "Epoch 3/20\n",
      "19906/19906 [==============================] - 6s 281us/step - loss: 0.8267 - acc: 0.6169\n",
      "Epoch 4/20\n",
      "19906/19906 [==============================] - 5s 276us/step - loss: 0.8191 - acc: 0.6191\n",
      "Epoch 5/20\n",
      "19906/19906 [==============================] - 6s 313us/step - loss: 0.8111 - acc: 0.6270\n",
      "Epoch 6/20\n",
      "19906/19906 [==============================] - 6s 299us/step - loss: 0.8018 - acc: 0.6316\n",
      "Epoch 7/20\n",
      "19906/19906 [==============================] - 6s 307us/step - loss: 0.7949 - acc: 0.6359\n",
      "Epoch 8/20\n",
      "19906/19906 [==============================] - 6s 295us/step - loss: 0.7872 - acc: 0.6436\n",
      "Epoch 9/20\n",
      "19906/19906 [==============================] - 6s 290us/step - loss: 0.7826 - acc: 0.6429\n",
      "Epoch 10/20\n",
      "19906/19906 [==============================] - 6s 311us/step - loss: 0.7771 - acc: 0.6496\n",
      "Epoch 11/20\n",
      "19906/19906 [==============================] - 6s 293us/step - loss: 0.7703 - acc: 0.6523\n",
      "Epoch 12/20\n",
      "19906/19906 [==============================] - 6s 296us/step - loss: 0.7678 - acc: 0.6543\n",
      "Epoch 13/20\n",
      "19906/19906 [==============================] - 6s 306us/step - loss: 0.7633 - acc: 0.6602\n",
      "Epoch 14/20\n",
      "19906/19906 [==============================] - 6s 298us/step - loss: 0.7617 - acc: 0.6578\n",
      "Epoch 15/20\n",
      "19906/19906 [==============================] - 7s 333us/step - loss: 0.7589 - acc: 0.6599\n",
      "Epoch 16/20\n",
      "19906/19906 [==============================] - 6s 308us/step - loss: 0.7505 - acc: 0.6667\n",
      "Epoch 17/20\n",
      "19906/19906 [==============================] - 6s 297us/step - loss: 0.7480 - acc: 0.6672\n",
      "Epoch 18/20\n",
      "19906/19906 [==============================] - 6s 303us/step - loss: 0.7468 - acc: 0.6683\n",
      "Epoch 19/20\n",
      "19906/19906 [==============================] - 6s 287us/step - loss: 0.7427 - acc: 0.6674\n",
      "Epoch 20/20\n",
      "19906/19906 [==============================] - 6s 305us/step - loss: 0.7405 - acc: 0.6721\n"
     ]
    },
    {
     "data": {
      "text/plain": [
       "<keras.callbacks.History at 0x2afd63ce4e0>"
      ]
     },
     "execution_count": 79,
     "metadata": {},
     "output_type": "execute_result"
    }
   ],
   "source": [
    "model.compile(optimizer='sgd', loss='categorical_crossentropy', metrics=['accuracy'])\n",
    "# model.fit(train_x, train_y, batch_size=batch_size,epochs=epochs,verbose=1)"
   ]
  },
  {
   "cell_type": "code",
   "execution_count": 80,
   "metadata": {
    "scrolled": true
   },
   "outputs": [
    {
     "name": "stdout",
     "output_type": "stream",
     "text": [
      "Train on 15924 samples, validate on 3982 samples\n",
      "Epoch 1/20\n",
      "15924/15924 [==============================] - 6s 350us/step - loss: 0.7379 - acc: 0.6743 - val_loss: 0.7573 - val_acc: 0.6733\n",
      "Epoch 2/20\n",
      "15924/15924 [==============================] - 5s 327us/step - loss: 0.7393 - acc: 0.6696 - val_loss: 0.7251 - val_acc: 0.6743\n",
      "Epoch 3/20\n",
      "15924/15924 [==============================] - 5s 335us/step - loss: 0.7353 - acc: 0.6729 - val_loss: 0.7183 - val_acc: 0.6821\n",
      "Epoch 4/20\n",
      "15924/15924 [==============================] - 6s 346us/step - loss: 0.7293 - acc: 0.6775 - val_loss: 0.7361 - val_acc: 0.6723\n",
      "Epoch 5/20\n",
      "15924/15924 [==============================] - 5s 310us/step - loss: 0.7287 - acc: 0.6759 - val_loss: 0.7173 - val_acc: 0.6846\n",
      "Epoch 6/20\n",
      "15924/15924 [==============================] - 5s 312us/step - loss: 0.7257 - acc: 0.6826 - val_loss: 0.7138 - val_acc: 0.6981\n",
      "Epoch 7/20\n",
      "15924/15924 [==============================] - 5s 329us/step - loss: 0.7212 - acc: 0.6831 - val_loss: 0.7192 - val_acc: 0.6848\n",
      "Epoch 8/20\n",
      "15924/15924 [==============================] - 5s 318us/step - loss: 0.7184 - acc: 0.6839 - val_loss: 0.7394 - val_acc: 0.6783\n",
      "Epoch 9/20\n",
      "15924/15924 [==============================] - 5s 328us/step - loss: 0.7160 - acc: 0.6838 - val_loss: 0.7394 - val_acc: 0.6823\n",
      "Epoch 10/20\n",
      "15924/15924 [==============================] - 5s 334us/step - loss: 0.7111 - acc: 0.6885 - val_loss: 0.7217 - val_acc: 0.6748\n",
      "Epoch 11/20\n",
      "15924/15924 [==============================] - 5s 318us/step - loss: 0.7105 - acc: 0.6847 - val_loss: 0.7055 - val_acc: 0.6981\n",
      "Epoch 12/20\n",
      "15924/15924 [==============================] - 6s 358us/step - loss: 0.7074 - acc: 0.6902 - val_loss: 0.7103 - val_acc: 0.6966\n",
      "Epoch 13/20\n",
      "15924/15924 [==============================] - 6s 386us/step - loss: 0.7035 - acc: 0.6920 - val_loss: 0.7258 - val_acc: 0.6705\n",
      "Epoch 14/20\n",
      "15924/15924 [==============================] - 5s 330us/step - loss: 0.7074 - acc: 0.6885 - val_loss: 0.7474 - val_acc: 0.6728\n",
      "Epoch 15/20\n",
      "15924/15924 [==============================] - 5s 343us/step - loss: 0.7005 - acc: 0.6893 - val_loss: 0.7061 - val_acc: 0.6994\n",
      "Epoch 16/20\n",
      "15924/15924 [==============================] - 6s 359us/step - loss: 0.7026 - acc: 0.6932 - val_loss: 0.7098 - val_acc: 0.6904\n",
      "Epoch 17/20\n",
      "15924/15924 [==============================] - 5s 334us/step - loss: 0.6968 - acc: 0.6959 - val_loss: 0.6990 - val_acc: 0.6971\n",
      "Epoch 18/20\n",
      "15924/15924 [==============================] - 5s 321us/step - loss: 0.6919 - acc: 0.6962 - val_loss: 0.7756 - val_acc: 0.6517\n",
      "Epoch 19/20\n",
      "15924/15924 [==============================] - 6s 346us/step - loss: 0.6951 - acc: 0.6952 - val_loss: 0.7493 - val_acc: 0.6723\n",
      "Epoch 20/20\n",
      "15924/15924 [==============================] - 5s 320us/step - loss: 0.6911 - acc: 0.6992 - val_loss: 0.7388 - val_acc: 0.6582\n"
     ]
    },
    {
     "data": {
      "text/plain": [
       "<keras.callbacks.History at 0x2afd476c160>"
      ]
     },
     "execution_count": 80,
     "metadata": {},
     "output_type": "execute_result"
    }
   ],
   "source": [
    "model.fit(train_x, train_y, batch_size=batch_size,epochs=epochs,verbose=1, validation_split=0.2)"
   ]
  },
  {
   "cell_type": "code",
   "execution_count": 81,
   "metadata": {},
   "outputs": [
    {
     "name": "stderr",
     "output_type": "stream",
     "text": [
      "C:\\tools\\Anaconda3\\lib\\site-packages\\sklearn\\preprocessing\\label.py:151: DeprecationWarning: The truth value of an empty array is ambiguous. Returning False, but in future this will result in an error. Use `array.size > 0` to check that an array is not empty.\n",
      "  if diff:\n"
     ]
    }
   ],
   "source": [
    "pred = model.predict_classes(test_x)\n",
    "pred = lb.inverse_transform(pred)\n",
    "\n",
    "test['Class'] = pred\n",
    "test.to_csv(\"sub02.csv\", index=False)"
   ]
  },
  {
   "cell_type": "code",
   "execution_count": 82,
   "metadata": {},
   "outputs": [
    {
     "data": {
      "text/plain": [
       "MIDDLE    0.820072\n",
       "YOUNG     0.162598\n",
       "OLD       0.017330\n",
       "Name: Class, dtype: float64"
      ]
     },
     "execution_count": 82,
     "metadata": {},
     "output_type": "execute_result"
    }
   ],
   "source": [
    "test.Class.value_counts(normalize=True)"
   ]
  },
  {
   "cell_type": "code",
   "execution_count": 86,
   "metadata": {},
   "outputs": [
    {
     "name": "stderr",
     "output_type": "stream",
     "text": [
      "C:\\tools\\Anaconda3\\lib\\site-packages\\ipykernel_launcher.py:4: DeprecationWarning: `imread` is deprecated!\n",
      "`imread` is deprecated in SciPy 1.0.0, and will be removed in 1.2.0.\n",
      "Use ``imageio.imread`` instead.\n",
      "  after removing the cwd from sys.path.\n",
      "C:\\tools\\Anaconda3\\lib\\site-packages\\ipykernel_launcher.py:5: DeprecationWarning: `imresize` is deprecated!\n",
      "`imresize` is deprecated in SciPy 1.0.0, and will be removed in 1.2.0.\n",
      "Use ``skimage.transform.resize`` instead.\n",
      "  \"\"\"\n"
     ]
    },
    {
     "name": "stdout",
     "output_type": "stream",
     "text": [
      "Original: MIDDLE Predicted: YOUNG\n"
     ]
    },
    {
     "name": "stderr",
     "output_type": "stream",
     "text": [
      "C:\\tools\\Anaconda3\\lib\\site-packages\\sklearn\\preprocessing\\label.py:151: DeprecationWarning: The truth value of an empty array is ambiguous. Returning False, but in future this will result in an error. Use `array.size > 0` to check that an array is not empty.\n",
      "  if diff:\n"
     ]
    },
    {
     "data": {
      "image/png": "[encoded data removed]",
      "text/plain": [
       "<matplotlib.figure.Figure at 0x2afd633bbe0>"
      ]
     },
     "metadata": {},
     "output_type": "display_data"
    }
   ],
   "source": [
    "i = random.choice(train.index)\n",
    "img_name = train.ID[i]\n",
    "\n",
    "img = imread(os.path.join(data_dir, 'Train\\\\Train\\\\', img_name)).astype('float32')\n",
    "imshow(imresize(img, (128, 128)))\n",
    "pred = model.predict_classes(train_x)\n",
    "print('Original:', train.Class[i], 'Predicted:', lb.inverse_transform(pred[i]))"
   ]
  },
  {
   "cell_type": "code",
   "execution_count": null,
   "metadata": {},
   "outputs": [],
   "source": []
  }
 ],
 "metadata": {
  "kernelspec": {
   "display_name": "Python 3",
   "language": "python",
   "name": "python3"
  },
  "language_info": {
   "codemirror_mode": {
    "name": "ipython",
    "version": 3
   },
   "file_extension": ".py",
   "mimetype": "text/x-python",
   "name": "python",
   "nbconvert_exporter": "python",
   "pygments_lexer": "ipython3",
   "version": "3.6.4"
  }
 },
 "nbformat": 4,
 "nbformat_minor": 2
}
